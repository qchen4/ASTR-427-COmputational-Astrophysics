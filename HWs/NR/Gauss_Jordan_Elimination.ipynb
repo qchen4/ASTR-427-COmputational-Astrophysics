{
 "cells": [
  {
   "cell_type": "code",
   "execution_count": 2,
   "id": "initial_id",
   "metadata": {
    "collapsed": true,
    "ExecuteTime": {
     "end_time": "2024-04-10T02:49:35.475761Z",
     "start_time": "2024-04-10T02:49:33.713158Z"
    }
   },
   "outputs": [],
   "source": [
    "import numpy as np\n",
    "import matplotlib.pyplot as plt\n"
   ]
  },
  {
   "cell_type": "code",
   "outputs": [],
   "source": [
    "A = np.array([[1, 2, 3], [4, 5, 6], [7, 8, 9]])"
   ],
   "metadata": {
    "collapsed": false,
    "ExecuteTime": {
     "end_time": "2024-04-10T04:10:42.523944Z",
     "start_time": "2024-04-10T04:10:42.511286Z"
    }
   },
   "id": "6fc4c0293341165f",
   "execution_count": 8
  },
  {
   "cell_type": "code",
   "outputs": [
    {
     "data": {
      "text/plain": "array([[1, 2, 3],\n       [4, 5, 6],\n       [7, 8, 9]])"
     },
     "execution_count": 9,
     "metadata": {},
     "output_type": "execute_result"
    }
   ],
   "source": [
    "A"
   ],
   "metadata": {
    "collapsed": false,
    "ExecuteTime": {
     "end_time": "2024-04-10T04:10:42.905722Z",
     "start_time": "2024-04-10T04:10:42.893877Z"
    }
   },
   "id": "e755bbb644e1f0ec",
   "execution_count": 9
  },
  {
   "cell_type": "code",
   "outputs": [
    {
     "name": "stdout",
     "output_type": "stream",
     "text": [
      "[-8 11  3]\n"
     ]
    }
   ],
   "source": [
    "ans = np.array([-8, 11, 3])\n",
    "print(ans)"
   ],
   "metadata": {
    "collapsed": false,
    "ExecuteTime": {
     "end_time": "2024-04-09T20:07:40.966551Z",
     "start_time": "2024-04-09T20:07:40.958981Z"
    }
   },
   "id": "66698710f8f0a3fc",
   "execution_count": 10
  },
  {
   "cell_type": "code",
   "outputs": [],
   "source": [
    "import numpy as np\n",
    "import tqdm as tqdm \n",
    "\n",
    "def gaussian_elimination_with_pivoting(A, b):\n",
    "    n = len(A)\n",
    "    # Main loop going through all columns\n",
    "    for k in tqdm(range(n)):\n",
    "        # Find the row with the maximum element in column k\n",
    "        max_row = np.argmax(np.abs(A[k:n, k])) + k\n",
    "        \n",
    "        # Swap the current row with the row with the maximum element\n",
    "        A[[k, max_row]] = A[[max_row, k]]\n",
    "        b[[k, max_row]] = b[[max_row, k]]\n",
    "        \n",
    "        # Elimination process\n",
    "        for row in range(k+1, n):\n",
    "            factor = A[row, k] / A[k, k]\n",
    "            A[row, k:] = A[row, k:] - factor * A[k, k:]\n",
    "            b[row] = b[row] - factor * b[k]\n",
    "    \n",
    "    # Back substitution\n",
    "    x = np.zeros(n)\n",
    "    for i in range(n-1, -1, -1):\n",
    "        x[i] = (b[i] - np.dot(A[i, i+1:], x[i+1:])) / A[i, i]\n",
    "    return x, A\n"
   ],
   "metadata": {
    "collapsed": false,
    "ExecuteTime": {
     "end_time": "2024-04-10T04:24:38.503161Z",
     "start_time": "2024-04-10T04:24:38.296512Z"
    }
   },
   "id": "a2a5665b1bdcc976",
   "execution_count": 3
  },
  {
   "cell_type": "code",
   "outputs": [],
   "source": [
    "n = 50000  # Matrix size\n",
    "low = -100  # Lower bound (inclusive)\n",
    "high = 100  # Upper bound (exclusive)\n",
    "\n",
    "A = np.random.randint(low, high, size=(n, n))\n",
    "b = np.random.randint(low, high, size = n)"
   ],
   "metadata": {
    "collapsed": false,
    "ExecuteTime": {
     "end_time": "2024-04-10T04:25:15.993137Z",
     "start_time": "2024-04-10T04:24:39.238942Z"
    }
   },
   "id": "d153ac5998ec7706",
   "execution_count": 4
  },
  {
   "cell_type": "code",
   "outputs": [
    {
     "ename": "TypeError",
     "evalue": "'module' object is not callable. Did you mean: 'tqdm.tqdm(...)'?",
     "output_type": "error",
     "traceback": [
      "\u001B[0;31m---------------------------------------------------------------------------\u001B[0m",
      "\u001B[0;31mTypeError\u001B[0m                                 Traceback (most recent call last)",
      "Cell \u001B[0;32mIn[5], line 1\u001B[0m\n\u001B[0;32m----> 1\u001B[0m x, pivoted_A \u001B[38;5;241m=\u001B[39m \u001B[43mgaussian_elimination_with_pivoting\u001B[49m\u001B[43m(\u001B[49m\u001B[43mA\u001B[49m\u001B[43m,\u001B[49m\u001B[43m \u001B[49m\u001B[43mb\u001B[49m\u001B[43m)\u001B[49m\n\u001B[1;32m      3\u001B[0m \u001B[38;5;28mprint\u001B[39m(\u001B[38;5;124m\"\u001B[39m\u001B[38;5;124mSolution x:\u001B[39m\u001B[38;5;124m\"\u001B[39m, x)\n\u001B[1;32m      4\u001B[0m \u001B[38;5;28mprint\u001B[39m(\u001B[38;5;124m\"\u001B[39m\u001B[38;5;124mPivoted Matrix A after Gaussian Elimination: \u001B[39m\u001B[38;5;130;01m\\n\u001B[39;00m\u001B[38;5;124m\"\u001B[39m, pivoted_A)\n",
      "Cell \u001B[0;32mIn[3], line 7\u001B[0m, in \u001B[0;36mgaussian_elimination_with_pivoting\u001B[0;34m(A, b)\u001B[0m\n\u001B[1;32m      5\u001B[0m n \u001B[38;5;241m=\u001B[39m \u001B[38;5;28mlen\u001B[39m(A)\n\u001B[1;32m      6\u001B[0m \u001B[38;5;66;03m# Main loop going through all columns\u001B[39;00m\n\u001B[0;32m----> 7\u001B[0m \u001B[38;5;28;01mfor\u001B[39;00m k \u001B[38;5;129;01min\u001B[39;00m \u001B[43mtqdm\u001B[49m\u001B[43m(\u001B[49m\u001B[38;5;28;43mrange\u001B[39;49m\u001B[43m(\u001B[49m\u001B[43mn\u001B[49m\u001B[43m)\u001B[49m\u001B[43m)\u001B[49m:\n\u001B[1;32m      8\u001B[0m     \u001B[38;5;66;03m# Find the row with the maximum element in column k\u001B[39;00m\n\u001B[1;32m      9\u001B[0m     max_row \u001B[38;5;241m=\u001B[39m np\u001B[38;5;241m.\u001B[39margmax(np\u001B[38;5;241m.\u001B[39mabs(A[k:n, k])) \u001B[38;5;241m+\u001B[39m k\n\u001B[1;32m     11\u001B[0m     \u001B[38;5;66;03m# Swap the current row with the row with the maximum element\u001B[39;00m\n",
      "\u001B[0;31mTypeError\u001B[0m: 'module' object is not callable. Did you mean: 'tqdm.tqdm(...)'?"
     ]
    }
   ],
   "source": [
    "x, pivoted_A = gaussian_elimination_with_pivoting(A, b)\n",
    "\n",
    "print(\"Solution x:\", x)\n",
    "print(\"Pivoted Matrix A after Gaussian Elimination: \\n\", pivoted_A)"
   ],
   "metadata": {
    "collapsed": false,
    "ExecuteTime": {
     "end_time": "2024-04-10T04:25:16.357361Z",
     "start_time": "2024-04-10T04:25:16.096135Z"
    }
   },
   "id": "1ff0cab176c95f68",
   "execution_count": 5
  },
  {
   "cell_type": "code",
   "outputs": [],
   "source": [
    "\n",
    "def pivoting(A):\n",
    "    sorted = np.zeros((A.shape[0], A.shape[1]))\n",
    "    for i in range(A.shape[0]): # col \n",
    "        pivot = A[i][0] # find largest pivot of each col\n",
    "        for j in range(A.shape[1]): # row\n",
    "            if A[i][j] > pivot:\n",
    "            A[][]\n",
    "    return  "
   ],
   "metadata": {
    "collapsed": false,
    "ExecuteTime": {
     "end_time": "2024-04-09T20:19:37.259146Z",
     "start_time": "2024-04-09T20:19:37.240575Z"
    }
   },
   "id": "30bacfc479e903b7",
   "execution_count": 20
  },
  {
   "cell_type": "code",
   "outputs": [
    {
     "name": "stdout",
     "output_type": "stream",
     "text": [
      "[1 2 3 5 6 9]\n"
     ]
    }
   ],
   "source": [
    "piv_A = pivoting(A)\n",
    "print(piv_A)"
   ],
   "metadata": {
    "collapsed": false,
    "ExecuteTime": {
     "end_time": "2024-04-09T20:19:43.227933Z",
     "start_time": "2024-04-09T20:19:43.219074Z"
    }
   },
   "id": "4e3403e1c31f855f",
   "execution_count": 22
  },
  {
   "cell_type": "code",
   "outputs": [],
   "source": [
    "def Gauss_Jordan_Elimination(A):\n",
    "    \n",
    "            \n",
    "                \n",
    "    \n",
    "    "
   ],
   "metadata": {
    "collapsed": false
   },
   "id": "36a343c09ea66fb3"
  },
  {
   "cell_type": "code",
   "outputs": [],
   "source": [
    "list = [1, 2, 3]"
   ],
   "metadata": {
    "collapsed": false,
    "ExecuteTime": {
     "end_time": "2024-04-09T20:58:32.415720Z",
     "start_time": "2024-04-09T20:58:32.399917Z"
    }
   },
   "id": "f8dbd35fedd6d2ca",
   "execution_count": 25
  },
  {
   "cell_type": "code",
   "outputs": [
    {
     "name": "stdout",
     "output_type": "stream",
     "text": [
      "[2, 3]\n"
     ]
    }
   ],
   "source": [
    "list.pop(0)\n",
    "print(list)"
   ],
   "metadata": {
    "collapsed": false,
    "ExecuteTime": {
     "end_time": "2024-04-09T20:58:35.611949Z",
     "start_time": "2024-04-09T20:58:35.597204Z"
    }
   },
   "id": "a853e1496139f1f1",
   "execution_count": 26
  },
  {
   "cell_type": "code",
   "outputs": [],
   "source": [],
   "metadata": {
    "collapsed": false
   },
   "id": "84a91be718c8e1d6"
  }
 ],
 "metadata": {
  "kernelspec": {
   "display_name": "Python 3",
   "language": "python",
   "name": "python3"
  },
  "language_info": {
   "codemirror_mode": {
    "name": "ipython",
    "version": 2
   },
   "file_extension": ".py",
   "mimetype": "text/x-python",
   "name": "python",
   "nbconvert_exporter": "python",
   "pygments_lexer": "ipython2",
   "version": "2.7.6"
  }
 },
 "nbformat": 4,
 "nbformat_minor": 5
}
