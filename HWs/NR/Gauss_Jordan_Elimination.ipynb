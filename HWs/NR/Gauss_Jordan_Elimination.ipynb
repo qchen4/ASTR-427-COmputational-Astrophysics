{
 "cells": [
  {
   "cell_type": "code",
   "execution_count": 1,
   "id": "initial_id",
   "metadata": {
    "collapsed": true,
    "ExecuteTime": {
     "end_time": "2024-04-09T20:06:06.659171Z",
     "start_time": "2024-04-09T20:06:05.001342Z"
    }
   },
   "outputs": [],
   "source": [
    "import numpy as np\n",
    "import matplotlib.pyplot as plt\n"
   ]
  },
  {
   "cell_type": "code",
   "outputs": [],
   "source": [
    "A = np.array([[1, 2, 3], [4, 5, 6], [7, 8, 9]])"
   ],
   "metadata": {
    "collapsed": false,
    "ExecuteTime": {
     "end_time": "2024-04-09T20:06:08.710179Z",
     "start_time": "2024-04-09T20:06:08.707064Z"
    }
   },
   "id": "6fc4c0293341165f",
   "execution_count": 2
  },
  {
   "cell_type": "code",
   "outputs": [
    {
     "name": "stdout",
     "output_type": "stream",
     "text": [
      "[[1 2 3]\n",
      " [4 5 6]\n",
      " [7 8 9]]\n"
     ]
    }
   ],
   "source": [
    "print(A)"
   ],
   "metadata": {
    "collapsed": false,
    "ExecuteTime": {
     "end_time": "2024-04-09T20:07:33.343071Z",
     "start_time": "2024-04-09T20:07:33.335241Z"
    }
   },
   "id": "e755bbb644e1f0ec",
   "execution_count": 9
  },
  {
   "cell_type": "code",
   "outputs": [
    {
     "name": "stdout",
     "output_type": "stream",
     "text": [
      "[-8 11  3]\n"
     ]
    }
   ],
   "source": [
    "ans = np.array([-8, 11, 3])\n",
    "print(ans)"
   ],
   "metadata": {
    "collapsed": false,
    "ExecuteTime": {
     "end_time": "2024-04-09T20:07:40.966551Z",
     "start_time": "2024-04-09T20:07:40.958981Z"
    }
   },
   "id": "66698710f8f0a3fc",
   "execution_count": 10
  },
  {
   "cell_type": "code",
   "outputs": [
    {
     "name": "stdout",
     "output_type": "stream",
     "text": [
      "augmented matrix:\n",
      " [[ 1  2  3]\n",
      " [ 4  5  6]\n",
      " [ 7  8  9]\n",
      " [-8 11  3]]\n"
     ]
    }
   ],
   "source": [
    "print(\"augmented matrix:\\n\", np.vstack((A,ans)))"
   ],
   "metadata": {
    "collapsed": false,
    "ExecuteTime": {
     "end_time": "2024-04-09T20:09:43.169978Z",
     "start_time": "2024-04-09T20:09:43.161441Z"
    }
   },
   "id": "10439fae4d6485c5",
   "execution_count": 16
  },
  {
   "cell_type": "code",
   "outputs": [
    {
     "name": "stdout",
     "output_type": "stream",
     "text": [
      "(4, 3)\n"
     ]
    }
   ],
   "source": [
    "print(np.vstack((A,ans)).shape)"
   ],
   "metadata": {
    "collapsed": false,
    "ExecuteTime": {
     "end_time": "2024-04-09T20:15:09.394700Z",
     "start_time": "2024-04-09T20:15:09.387410Z"
    }
   },
   "id": "feae556ec41c3e3b",
   "execution_count": 17
  },
  {
   "cell_type": "code",
   "outputs": [],
   "source": [
    "def pivoting(A):\n",
    "    for i in range(A.shape[0]): # col \n",
    "        for j in range(A.shape[1]): # row\n",
    "            pivot = np.argmax(A[i]) #find largest pivot of each col\n",
    "    "
   ],
   "metadata": {
    "collapsed": false,
    "ExecuteTime": {
     "end_time": "2024-04-09T20:19:37.259146Z",
     "start_time": "2024-04-09T20:19:37.240575Z"
    }
   },
   "id": "30bacfc479e903b7",
   "execution_count": 20
  },
  {
   "cell_type": "code",
   "outputs": [
    {
     "name": "stdout",
     "output_type": "stream",
     "text": [
      "[1 2 3 5 6 9]\n"
     ]
    }
   ],
   "source": [
    "piv_A = pivoting(A)\n",
    "print(piv_A)"
   ],
   "metadata": {
    "collapsed": false,
    "ExecuteTime": {
     "end_time": "2024-04-09T20:19:43.227933Z",
     "start_time": "2024-04-09T20:19:43.219074Z"
    }
   },
   "id": "4e3403e1c31f855f",
   "execution_count": 22
  },
  {
   "cell_type": "code",
   "outputs": [],
   "source": [
    "def Gauss_Jordan_Elimination(A):\n",
    "    \n",
    "            \n",
    "                \n",
    "    \n",
    "    "
   ],
   "metadata": {
    "collapsed": false
   },
   "id": "36a343c09ea66fb3"
  },
  {
   "cell_type": "code",
   "outputs": [],
   "source": [
    "list = [1, 2, 3]"
   ],
   "metadata": {
    "collapsed": false,
    "ExecuteTime": {
     "end_time": "2024-04-09T20:58:32.415720Z",
     "start_time": "2024-04-09T20:58:32.399917Z"
    }
   },
   "id": "f8dbd35fedd6d2ca",
   "execution_count": 25
  },
  {
   "cell_type": "code",
   "outputs": [
    {
     "name": "stdout",
     "output_type": "stream",
     "text": [
      "[2, 3]\n"
     ]
    }
   ],
   "source": [
    "list.pop(0)\n",
    "print(list)"
   ],
   "metadata": {
    "collapsed": false,
    "ExecuteTime": {
     "end_time": "2024-04-09T20:58:35.611949Z",
     "start_time": "2024-04-09T20:58:35.597204Z"
    }
   },
   "id": "a853e1496139f1f1",
   "execution_count": 26
  },
  {
   "cell_type": "code",
   "outputs": [],
   "source": [],
   "metadata": {
    "collapsed": false
   },
   "id": "84a91be718c8e1d6"
  }
 ],
 "metadata": {
  "kernelspec": {
   "display_name": "Python 3",
   "language": "python",
   "name": "python3"
  },
  "language_info": {
   "codemirror_mode": {
    "name": "ipython",
    "version": 2
   },
   "file_extension": ".py",
   "mimetype": "text/x-python",
   "name": "python",
   "nbconvert_exporter": "python",
   "pygments_lexer": "ipython2",
   "version": "2.7.6"
  }
 },
 "nbformat": 4,
 "nbformat_minor": 5
}
