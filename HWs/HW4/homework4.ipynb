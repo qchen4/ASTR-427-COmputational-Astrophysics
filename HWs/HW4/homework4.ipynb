{
 "cells": [
  {
   "metadata": {},
   "cell_type": "markdown",
   "source": [
    "Homework 4: Optimization\\\n",
    "Author: Jeremy Chen\\\n",
    "May 15, 2024\n"
   ],
   "id": "7567a72b3390ff30"
  },
  {
   "metadata": {},
   "cell_type": "markdown",
   "source": [
    "The stellar disk of the Mikly Way is often modeled with two componts, a thin and a thick disk. Thus, a dynamically motivated model for the stellar density, $\\rho_*$, as a function of height,  above or below the midplane is\n",
    "\n",
    "$$\\rho_*(z) = \\rho_{thin}sech^2(z/h_{thin}) + \\rho_{thick}sech^2(z/h_{thick})$$\n",
    "\n",
    "where $\\rho_{thin}$ and $\\rho_{thick}$ are midplane densities of the think an thick disk, respectively, $h_{thin}$ and h_{thick} are the respective scale heights, and sech() is the hyperbolic secant function. "
   ],
   "id": "160124baac1d5b05"
  },
  {
   "metadata": {},
   "cell_type": "code",
   "outputs": [],
   "execution_count": null,
   "source": [
    "# module importing block \n",
    "import scipy.optimize._minimize as minimize "
   ],
   "id": "e0e5469faba147a8"
  },
  {
   "metadata": {},
   "cell_type": "markdown",
   "source": "Problem 1. ",
   "id": "3a4f5daea78f57d5"
  },
  {
   "metadata": {},
   "cell_type": "code",
   "outputs": [],
   "execution_count": null,
   "source": "",
   "id": "fc87c501d5c305b6"
  },
  {
   "metadata": {},
   "cell_type": "code",
   "outputs": [],
   "execution_count": null,
   "source": "",
   "id": "7baa729ced393d35"
  }
 ],
 "metadata": {
  "kernelspec": {
   "display_name": "Python 3",
   "language": "python",
   "name": "python3"
  },
  "language_info": {
   "codemirror_mode": {
    "name": "ipython",
    "version": 2
   },
   "file_extension": ".py",
   "mimetype": "text/x-python",
   "name": "python",
   "nbconvert_exporter": "python",
   "pygments_lexer": "ipython2",
   "version": "2.7.6"
  }
 },
 "nbformat": 4,
 "nbformat_minor": 5
}
