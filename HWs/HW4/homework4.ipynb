{
 "cells": [
  {
   "metadata": {},
   "cell_type": "markdown",
   "source": [
    "Homework 4: Optimization\\\n",
    "Author: Jeremy Chen\\\n",
    "May 15, 2024\n"
   ],
   "id": "7567a72b3390ff30"
  },
  {
   "metadata": {},
   "cell_type": "markdown",
   "source": [
    "## The stellar disk of the Mikly Way is often modeled with two componts, a thin and a thick disk. Thus, a dynamically motivated model for the stellar density, $\\rho_*$, as a function of height,  above or below the midplane is\n",
    "\n",
    "$$\\rho_*(z) = \\rho_{thin}sech^2(z/h_{thin}) + \\rho_{thick}sech^2(z/h_{thick})$$\n",
    "\n",
    "## where $\\rho_{thin}$ and $\\rho_{thick}$ are midplane densities of the think an thick disk, respectively, $h_{thin}$ and h_{thick} are the respective scale heights, and sech() is the hyperbolic secant function. "
   ],
   "id": "160124baac1d5b05"
  },
  {
   "metadata": {
    "ExecuteTime": {
     "end_time": "2024-05-23T06:48:19.712438Z",
     "start_time": "2024-05-23T06:48:19.707738Z"
    }
   },
   "cell_type": "code",
   "source": [
    "# module importing block \n",
    "import pandas as pd\n",
    "import matplotlib.pyplot as plt\n",
    "import numpy as np\n",
    "from scipy.optimize import minimize"
   ],
   "id": "e0e5469faba147a8",
   "outputs": [],
   "execution_count": 28
  },
  {
   "metadata": {},
   "cell_type": "markdown",
   "source": [
    "## Problem 1. \n",
    "use a package (I recommend scipy.optimize.minimize with the “Pow-\n",
    "ell” method) to fit the above data in the file disk.csv on the canvas\n",
    "page, which represents measurements of ρ∗ (in number/pc3) at 100 val-\n",
    "ues of z (in parsecs), for the 4 free parameters of the model: ρthin,\n",
    "ρthick, hthin and hthick"
   ],
   "id": "3a4f5daea78f57d5"
  },
  {
   "metadata": {
    "ExecuteTime": {
     "end_time": "2024-05-23T06:48:20.139109Z",
     "start_time": "2024-05-23T06:48:20.119337Z"
    }
   },
   "cell_type": "code",
   "source": [
    "data = pd.read_csv('disk.csv', header = None, names = ['z', 'rho'])\n",
    "z_obs = data['z'].values\n",
    "rho_obs = data['rho'].values"
   ],
   "id": "fc87c501d5c305b6",
   "outputs": [],
   "execution_count": 29
  },
  {
   "metadata": {
    "ExecuteTime": {
     "end_time": "2024-05-23T06:48:20.241570Z",
     "start_time": "2024-05-23T06:48:20.238182Z"
    }
   },
   "cell_type": "code",
   "source": [
    "# Return a dynamically motivated model for the stellar density ρ∗, \n",
    "# z is an array of heights, \n",
    "# rho_thin: midplane density of the thin disk \n",
    "# rho_thick: midplane density of the thick disk\n",
    "# h_thin: height for thin disk \n",
    "# h_thick: height for thick disk \n",
    "def stellar_density_model(z, rho_thin, h_thin, rho_thick, h_thick):\n",
    "    return rho_thin * (1 / np.cosh(z / h_thin))**2 + rho_thick * (1 / np.cosh(z / h_thick))**2\n",
    "\n",
    "# Return the standard least square error \n",
    "# Inputs: params is a list of free parameters\n",
    "# z_obs is an array of heights\n",
    "# rho_obs is the observational density at given height \n",
    "def objective_function(params, z_obs, rho_obs):\n",
    "    rho_thin, h_thin, rho_thick, h_thick = params\n",
    "    rho_model = stellar_density_model(z_obs, rho_thin, h_thin, rho_thick, h_thick)\n",
    "    return np.sum((rho_obs - rho_model)**2)\n"
   ],
   "id": "258ef36309dcd6cf",
   "outputs": [],
   "execution_count": 30
  },
  {
   "metadata": {
    "ExecuteTime": {
     "end_time": "2024-05-23T06:48:20.432877Z",
     "start_time": "2024-05-23T06:48:20.421013Z"
    }
   },
   "cell_type": "code",
   "source": [
    "# Initial guesses for the parameters\n",
    "initial_guess = [0.004, 280, 0.003, 800]\n",
    "\n",
    "# Fit the model\n",
    "result = minimize(objective_function, initial_guess, args=(z_obs, rho_obs), method='Powell')\n",
    "\n",
    "# Extract the best-fit parameters\n",
    "rho_thin_fit, h_thin_fit, rho_thick_fit, h_thick_fit = result.x\n",
    "\n",
    "print(f'Best-fit parameters:\\n rho_thin = {rho_thin_fit:.6f} /pc^3\\n h_thin = {h_thin_fit:.2f} pc\\n rho_thick = {rho_thick_fit:.6f} /pc^3\\n h_thick = {h_thick_fit:.2f} pc')\n"
   ],
   "id": "99f4a7178d7272b3",
   "outputs": [
    {
     "name": "stdout",
     "output_type": "stream",
     "text": [
      "Best-fit parameters:\n",
      " rho_thin = 0.003697 /pc^3\n",
      " h_thin = 268.12 pc\n",
      " rho_thick = 0.003068 /pc^3\n",
      " h_thick = 821.52 pc\n"
     ]
    }
   ],
   "execution_count": 31
  },
  {
   "metadata": {},
   "cell_type": "markdown",
   "source": [
    "## Part 2\n",
    "Now assume that you have determined by other means that the prop-\n",
    "erties of the thick disk are ρthick = 0.003/pc3 and hthick = 800pc. Fit\n",
    "for the parameters of the thin disk"
   ],
   "id": "2f97428758213fb8"
  },
  {
   "metadata": {
    "ExecuteTime": {
     "end_time": "2024-05-23T06:59:25.735703Z",
     "start_time": "2024-05-23T06:59:25.719349Z"
    }
   },
   "cell_type": "code",
   "source": [
    "# Return the standard least square error\n",
    "# params is an array of free parameters \n",
    "# z is an array of heights, \n",
    "# rho_obs is the observational density at given height \n",
    "# rho_thick and h_thick are given fixed parameters\n",
    "def objective_function_thin(params, z_obs, rho_obs, rho_thick, h_thick):\n",
    "    rho_thin, h_thin = params\n",
    "    rho_model = stellar_density_model(z_obs, rho_thin, h_thin, rho_thick, h_thick)\n",
    "    return np.sum((rho_obs - rho_model)**2)\n",
    "\n",
    "# Fixed thick disk parameters\n",
    "rho_thick_fixed = 0.003\n",
    "h_thick_fixed = 800\n",
    "\n",
    "# Initial guesses for the thin disk parameters\n",
    "initial_guess_thin = [0.005, 300]\n",
    "\n",
    "# Fit the model\n",
    "result_thin = minimize(objective_function_thin, initial_guess_thin, args=(z_obs, rho_obs, rho_thick_fixed, h_thick_fixed), method='Powell')\n",
    "\n",
    "# Extract the best-fit parameters for the thin disk\n",
    "rho_thin_fit, h_thin_fit = result_thin.x\n",
    "\n",
    "print(f'Best-fit parameters for the thin disk:\\n rho_thin = {rho_thin_fit:.6f} /pc^3\\n h_thin = {h_thin_fit:.2f} pc')\n"
   ],
   "id": "f7afe383bab54280",
   "outputs": [
    {
     "name": "stdout",
     "output_type": "stream",
     "text": [
      "Best-fit parameters for the thin disk:\n",
      " rho_thin = 0.003723 /pc^3\n",
      " h_thin = 280.45 pc\n"
     ]
    }
   ],
   "execution_count": 38
  },
  {
   "metadata": {},
   "cell_type": "markdown",
   "source": [
    "## Part3\n",
    "The values used to generate the data are ρthin = 0.004/pc3, hthin =\n",
    "280pc, ρthick = 0.003/pc3 and hthick = 800pc with errors of ±0.0004.\n",
    "Comment on the comparison between these numbers and the values\n",
    "you found.\n"
   ],
   "id": "1723f8e0dcd09e52"
  },
  {
   "metadata": {
    "ExecuteTime": {
     "end_time": "2024-05-23T06:59:26.157980Z",
     "start_time": "2024-05-23T06:59:26.154470Z"
    }
   },
   "cell_type": "code",
   "source": [
    "# Part 3: Comparison\n",
    "provided_values = {\n",
    "    'rho_thin': 0.004,\n",
    "    'h_thin': 280,\n",
    "    'rho_thick': 0.003,\n",
    "    'h_thick': 800\n",
    "}\n",
    "\n",
    "fitted_values = {\n",
    "    'rho_thin': rho_thin_fit,\n",
    "    'h_thin': h_thin_fit,\n",
    "    'rho_thick': rho_thick_fixed,\n",
    "    'h_thick': h_thick_fixed\n",
    "}\n",
    "\n",
    "# Calculate errors\n",
    "errors = {key: abs(fitted_values[key] - provided_values[key]) for key in provided_values.keys()}\n",
    "\n",
    "error_percent = {key: (abs(errors[key]) / provided_values[key])for key in provided_values.keys()}\n",
    "\n",
    "# Print comparison\n",
    "print(f\"Provided values: {provided_values}\")\n",
    "print(f\"Fitted values: {fitted_values}\")\n",
    "print(f\"Errors: {errors}\")\n",
    "print(f'Error_percent: {error_percent}')"
   ],
   "id": "898b9de66042f05a",
   "outputs": [
    {
     "name": "stdout",
     "output_type": "stream",
     "text": [
      "Provided values: {'rho_thin': 0.004, 'h_thin': 280, 'rho_thick': 0.003, 'h_thick': 800}\n",
      "Fitted values: {'rho_thin': 0.0037229345889075575, 'h_thin': 280.4525049795253, 'rho_thick': 0.003, 'h_thick': 800}\n",
      "Errors: {'rho_thin': 0.0002770654110924426, 'h_thin': 0.4525049795253153, 'rho_thick': 0.0, 'h_thick': 0}\n",
      "Error_percent: {'rho_thin': 0.06926635277311065, 'h_thin': 0.0016160892125904119, 'rho_thick': 0.0, 'h_thick': 0.0}\n"
     ]
    }
   ],
   "execution_count": 39
  },
  {
   "metadata": {},
   "cell_type": "markdown",
   "source": "Comment: rho_thin error is too large, others are in acceptable range ",
   "id": "ad8c58395529ed10"
  },
  {
   "metadata": {
    "ExecuteTime": {
     "end_time": "2024-05-23T06:41:19.522853Z",
     "start_time": "2024-05-23T06:41:19.519600Z"
    }
   },
   "cell_type": "code",
   "source": "",
   "id": "5a22d07961bf9da0",
   "outputs": [],
   "execution_count": 23
  },
  {
   "metadata": {
    "ExecuteTime": {
     "end_time": "2024-05-23T06:41:19.581919Z",
     "start_time": "2024-05-23T06:41:19.579148Z"
    }
   },
   "cell_type": "code",
   "source": "",
   "id": "6eb3d8acc6478625",
   "outputs": [],
   "execution_count": 23
  },
  {
   "metadata": {
    "ExecuteTime": {
     "end_time": "2024-05-23T06:41:19.655259Z",
     "start_time": "2024-05-23T06:41:19.653093Z"
    }
   },
   "cell_type": "code",
   "source": "",
   "id": "7907fa6aa1f0e3a4",
   "outputs": [],
   "execution_count": 23
  },
  {
   "metadata": {
    "ExecuteTime": {
     "end_time": "2024-05-23T06:41:19.747002Z",
     "start_time": "2024-05-23T06:41:19.744909Z"
    }
   },
   "cell_type": "code",
   "source": "",
   "id": "6f9a720365cceef",
   "outputs": [],
   "execution_count": 23
  },
  {
   "metadata": {
    "ExecuteTime": {
     "end_time": "2024-05-23T06:41:19.823848Z",
     "start_time": "2024-05-23T06:41:19.821823Z"
    }
   },
   "cell_type": "code",
   "source": "",
   "id": "e4debccbaac66166",
   "outputs": [],
   "execution_count": 23
  },
  {
   "metadata": {},
   "cell_type": "code",
   "outputs": [],
   "execution_count": null,
   "source": "",
   "id": "8ec96ccf2ff0bbe8"
  }
 ],
 "metadata": {
  "kernelspec": {
   "display_name": "Python 3",
   "language": "python",
   "name": "python3"
  },
  "language_info": {
   "codemirror_mode": {
    "name": "ipython",
    "version": 2
   },
   "file_extension": ".py",
   "mimetype": "text/x-python",
   "name": "python",
   "nbconvert_exporter": "python",
   "pygments_lexer": "ipython2",
   "version": "2.7.6"
  }
 },
 "nbformat": 4,
 "nbformat_minor": 5
}
